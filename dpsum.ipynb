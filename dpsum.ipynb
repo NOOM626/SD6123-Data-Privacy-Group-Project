{
 "cells": [
  {
   "cell_type": "code",
   "execution_count": 1,
   "metadata": {},
   "outputs": [],
   "source": [
    "import numpy as np\n",
    "import scipy as sci\n",
    "import bisect"
   ]
  },
  {
   "cell_type": "code",
   "execution_count": 2,
   "metadata": {},
   "outputs": [],
   "source": [
    "# Noisy Range Count for DP element count within a given range\n",
    "def NoisyRC_normal(left, right, min_val, max_val, rho, D):\n",
    "    left_pos = bisect.bisect_left(D, left)\n",
    "    right_pos = bisect.bisect_left(D, right)\n",
    "    return right_pos - left_pos + 1 + np.random.normal(0, np.sqrt(np.log2(max_val - min_val) / (2 * rho)), 1)[0]\n",
    "\n",
    "# Noisy Range Count for DP element count within a given range\n",
    "def NoisyRC_normal_float(left, right, min_val, max_val, rho, D, precision = 1e-4):\n",
    "    left_pos = bisect.bisect_left(D, left)\n",
    "    right_pos = bisect.bisect_left(D, right)\n",
    "    return right_pos - left_pos + 1 + np.random.normal(0, np.sqrt(np.log2((max_val - min_val) / precision) / (2 * rho)), 1)[0]"
   ]
  },
  {
   "cell_type": "code",
   "execution_count": 3,
   "metadata": {},
   "outputs": [],
   "source": [
    "# Noisy Range Count for DP element count within a given range\n",
    "def NoisyRC_laplace(left, right, min_val, max_val, epsilon, D):\n",
    "    left_pos = bisect.bisect_left(D, left)\n",
    "    right_pos = bisect.bisect_left(D, right)\n",
    "    return right_pos - left_pos + 1 + np.random.laplace(0, np.log2(max_val - min_val) / epsilon, 1)[0]\n",
    "\n",
    "# Noisy Range Count for DP element count within a given range\n",
    "def NoisyRC_laplace_float(left, right, min_val, max_val, epsilon, D, precision = 1e-4):\n",
    "    left_pos = bisect.bisect_left(D, left)\n",
    "    right_pos = bisect.bisect_left(D, right)\n",
    "    return right_pos - left_pos + 1 + np.random.laplace(0, np.log2((max_val - min_val) / precision) / epsilon, 1)[0]"
   ]
  },
  {
   "cell_type": "code",
   "execution_count": 4,
   "metadata": {},
   "outputs": [],
   "source": [
    "# PrivQuant for DP Quantile Selection by Binary Search\n",
    "# D: 1-d vector\n",
    "# m: desired m-th quantile of D\n",
    "# rho: expected rho-CDP\n",
    "def PrivQuant_normal(D, min_val, max_val, m, rho):\n",
    "    D = np.sort(D)\n",
    "    left = min_val\n",
    "    right = max_val\n",
    "    while left < right:\n",
    "        mid = int(np.floor((left + right) / 2))\n",
    "        c_hat = NoisyRC_normal(0, mid, min_val, max_val, rho, D)\n",
    "        if(c_hat <= m):\n",
    "            left = mid + 1\n",
    "        else:\n",
    "            right = mid\n",
    "    return int(np.floor((left + right) / 2))"
   ]
  },
  {
   "cell_type": "code",
   "execution_count": 5,
   "metadata": {},
   "outputs": [],
   "source": [
    "# PrivQuant for DP Quantile Selection by Binary Search\n",
    "# D: 1-d vector\n",
    "# m: desired m-th quantile of D\n",
    "# rho: expected rho-CDP\n",
    "def PrivQuant_laplace(D, min_val, max_val, m, epsilon):\n",
    "    D = np.sort(D)\n",
    "    left = min_val\n",
    "    right = max_val\n",
    "    while left < right:\n",
    "        mid = int(np.floor((left + right) / 2))\n",
    "        c_hat = NoisyRC_laplace(0, mid, min_val, max_val, epsilon, D)\n",
    "        if(c_hat <= m):\n",
    "            left = mid + 1\n",
    "        else:\n",
    "            right = mid\n",
    "    return int(np.floor((left + right) / 2))"
   ]
  },
  {
   "cell_type": "code",
   "execution_count": 6,
   "metadata": {},
   "outputs": [],
   "source": [
    "# PrivQuant for DP Quantile Selection by Binary Search\n",
    "# D: 1-d vector\n",
    "# m: desired m-th quantile of D\n",
    "# rho: expected rho-CDP\n",
    "def PrivQuant_normal_float(D, min_val, max_val, m, rho, precision = 1e-4):\n",
    "    D = np.sort(D)\n",
    "    left = min_val\n",
    "    right = max_val\n",
    "    while (right - left) > precision:\n",
    "        mid = (left + right) / 2\n",
    "        c_hat = NoisyRC_normal(0, mid, rho, D)\n",
    "        if(c_hat <= m):\n",
    "            left = mid + precision\n",
    "        else:\n",
    "            right = mid\n",
    "    return (left + right) / 2"
   ]
  },
  {
   "cell_type": "code",
   "execution_count": 7,
   "metadata": {},
   "outputs": [],
   "source": [
    "# PrivQuant for DP Quantile Selection by Binary Search\n",
    "# D: 1-d vector\n",
    "# m: desired m-th quantile of D\n",
    "# rho: expected rho-CDP\n",
    "def PrivQuant_laplace_float(D, min_val, max_val, m, epsilon, precision = 1e-4):\n",
    "    D = np.sort(D)\n",
    "    left = min_val\n",
    "    right = max_val\n",
    "    while (right - left) > epsilon:\n",
    "        mid = (left + right) / 2\n",
    "        c_hat = NoisyRC_normal(0, mid, precision, D)\n",
    "        if(c_hat <= m):\n",
    "            left = mid + epsilon\n",
    "        else:\n",
    "            right = mid\n",
    "    return (left + right) / 2"
   ]
  },
  {
   "cell_type": "code",
   "execution_count": 8,
   "metadata": {},
   "outputs": [],
   "source": [
    "# Assume that input D is sorted in ascending order\n",
    "def GetRankError_normal(min_val, max_val, d, rho, beta):\n",
    "    u = max_val - min_val\n",
    "    n = np.log2(d * u)\n",
    "    simga_squared = n / (2 * rho)\n",
    "    return np.sqrt(2 * simga_squared * np.log(n / beta))\n",
    "\n",
    "def GetRankError_normal_float(min_val, max_val, d, rho, beta, precision = 1e-4):\n",
    "    u = max_val - min_val\n",
    "    n = np.log2(d * u) / precision\n",
    "    simga_squared = n / (2 * rho)\n",
    "    return np.sqrt(2 * simga_squared * np.log(n / beta))\n",
    "\n",
    "def GetRankError_laplace(min_val, max_val, d, epsilon, beta):\n",
    "    u = max_val - min_val\n",
    "    n = np.log2(d * u)\n",
    "    b = n / epsilon\n",
    "    return -b * np.log(1 - np.float_power(1 - beta, 1 / n))\n",
    "\n",
    "def GetRankError_laplace_float(min_val, max_val, d, epsilon, beta, precision = 1e-4):\n",
    "    u = max_val - min_val\n",
    "    n = np.log2(d * u) / precision\n",
    "    b = n / epsilon\n",
    "    return -b * np.log(1 - np.float_power(1 - beta, 1 / n))\n",
    "\n",
    "def GetRankError_laplace_relaxed(min_val, max_val, d, epsilon, beta):\n",
    "    u = max_val - min_val\n",
    "    n = np.log2(d * u)\n",
    "    b = n / epsilon\n",
    "    return -b * np.log(beta / n)\n",
    "\n",
    "def GetRankError_laplace_relaxed_float(min_val, max_val, d, epsilon, beta, precision = 1e-4):\n",
    "    u = max_val - min_val\n",
    "    n = np.log2(d * u) / precision\n",
    "    b = n / epsilon\n",
    "    return -b * np.log(beta / n)"
   ]
  },
  {
   "cell_type": "code",
   "execution_count": 9,
   "metadata": {},
   "outputs": [],
   "source": [
    "def GetOptimalQuantile_normal(n, d, tau, rho):\n",
    "    return max(n - max(np.sqrt(2 * d / rho), tau), 1)\n",
    "\n",
    "def GetOptimalQuantile_laplace(n, d, tau, epsilon):\n",
    "    return max(n - max(np.sqrt(8 * d) / epsilon, tau), 1)"
   ]
  },
  {
   "cell_type": "markdown",
   "metadata": {},
   "source": [
    "### Packing entire thing together"
   ]
  },
  {
   "cell_type": "code",
   "execution_count": 10,
   "metadata": {},
   "outputs": [],
   "source": [
    "def ClippedSumEstimator_normal(D, min_val, max_val, rho, beta):\n",
    "    # Calculate rank error tau\n",
    "    tau = GetRankError_normal(min_val, max_val, 1, rho / 4, beta)\n",
    "\n",
    "    # Get the optimal clipped quantile m\n",
    "    # Note that we should use 1/4 of rho here\n",
    "    m = GetOptimalQuantile_normal(D.size, 1, tau, rho / 4)\n",
    "\n",
    "    # Get clipping threshold C\n",
    "    clip_thresh = PrivQuant_normal(D, min_val, max_val, m, rho / 4)\n",
    "\n",
    "    # Calculate clipped value of D\n",
    "    D_clipped = np.clip(D, a_min = 0, a_max = clip_thresh)\n",
    "\n",
    "    # Calculate the variance of gaussian noise\n",
    "    # Note that we should use 3/4 of rho here\n",
    "    sigma = np.sqrt((2 * clip_thresh * clip_thresh) / (3 * rho / 4))\n",
    "\n",
    "    noise = np.random.normal(0, sigma, 1)[0]\n",
    "    actual_sum = np.sum(D)\n",
    "    estimated_sum = np.sum(D_clipped) + noise\n",
    "\n",
    "    res = {\n",
    "        \"rho\" : rho,\n",
    "        \"beta\": beta,\n",
    "        \"tau\": tau,\n",
    "        \"n\" : D.size,\n",
    "        \"min_val\" : min_val,\n",
    "        \"max_val\" : max_val,\n",
    "        \"quantile\" : m,\n",
    "        \"clip_thresh\" : clip_thresh,\n",
    "        \"sigma\" : sigma,\n",
    "        \"noise\" : noise,\n",
    "        \"actual_sum\" : actual_sum,\n",
    "        \"estimated_sum\" : estimated_sum,\n",
    "    }\n",
    "\n",
    "    return res"
   ]
  },
  {
   "cell_type": "code",
   "execution_count": 11,
   "metadata": {},
   "outputs": [],
   "source": [
    "def ClippedSumEstimator_laplace(D, min_val, max_val, epsilon, beta):\n",
    "    # Calculate rank error tau\n",
    "    tau = GetRankError_laplace(min_val, max_val, 1, epsilon / 4, beta)\n",
    "\n",
    "    # Get the optimal clipped quantile m\n",
    "    # Note that we should use 1/4 of epsilon here\n",
    "    m = GetOptimalQuantile_laplace(D.size, 1, tau, epsilon / 4)\n",
    "\n",
    "    # Get clipping threshold C\n",
    "    clip_thresh = PrivQuant_laplace(D, min_val, max_val, m, epsilon / 4)\n",
    "\n",
    "    # Calculate clipped value of D\n",
    "    D_clipped = np.clip(D, a_min = -clip_thresh, a_max = clip_thresh)\n",
    "\n",
    "    # Calculate the variance of gaussian noise\n",
    "    # Note that we should use 3/4 of tau here\n",
    "    b = (2 * clip_thresh) / (3 * epsilon / 4)\n",
    "\n",
    "    noise = np.random.laplace(0, b, 1)[0]\n",
    "    actual_sum = np.sum(D)\n",
    "    estimated_sum = np.sum(D_clipped) + noise\n",
    "\n",
    "    res = {\n",
    "        \"epsilon\" : epsilon,\n",
    "        \"beta\": beta,\n",
    "        \"tau\": tau,\n",
    "        \"n\" : D.size,\n",
    "        \"min_val\" : min_val,\n",
    "        \"max_val\" : max_val,\n",
    "        \"quantile\" : m,\n",
    "        \"clip_thresh\" : clip_thresh,\n",
    "        \"b\" : b,\n",
    "        \"noise\" : noise,\n",
    "        \"actual_sum\" : actual_sum,\n",
    "        \"estimated_sum\" : estimated_sum,\n",
    "    }\n",
    "\n",
    "    return res"
   ]
  },
  {
   "cell_type": "code",
   "execution_count": 12,
   "metadata": {},
   "outputs": [],
   "source": [
    "def SumEstimator_laplace(D, min_val, max_val, epsilon):\n",
    "    b = (max_val - min_val) / epsilon\n",
    "    noise = np.random.laplace(0, b)\n",
    "    actual_sum = np.sum(D)\n",
    "    estimated_sum = actual_sum + noise\n",
    "\n",
    "    res = {\n",
    "        \"epsilon\" : epsilon,\n",
    "        \"n\" : D.size,\n",
    "        \"min_val\" : min_val,\n",
    "        \"max_val\" : max_val,\n",
    "        \"b\" : b,\n",
    "        \"noise\" : noise,\n",
    "        \"actual_sum\" : actual_sum,\n",
    "        \"estimated_sum\" : estimated_sum,\n",
    "    }\n",
    "\n",
    "    return res"
   ]
  },
  {
   "cell_type": "code",
   "execution_count": 13,
   "metadata": {},
   "outputs": [],
   "source": [
    "# Size of dataset\n",
    "n = 10000\n",
    "\n",
    "# Largest possible value in dataset\n",
    "min_val = 0\n",
    "max_val = 1000\n",
    "\n",
    "# Generate random content for dataset\n",
    "D = np.random.randint(min_val, max_val, size=n)"
   ]
  },
  {
   "cell_type": "code",
   "execution_count": 14,
   "metadata": {},
   "outputs": [
    {
     "data": {
      "text/plain": [
       "{'rho': 0.25,\n",
       " 'beta': 0.001,\n",
       " 'tau': 71.62055760518666,\n",
       " 'n': 10000,\n",
       " 'min_val': 0,\n",
       " 'max_val': 2147483647,\n",
       " 'quantile': 9928.379442394813,\n",
       " 'clip_thresh': 991,\n",
       " 'sigma': 3236.592446797506,\n",
       " 'noise': -313.1285911837273,\n",
       " 'actual_sum': 5012775,\n",
       " 'estimated_sum': 5012200.871408816}"
      ]
     },
     "execution_count": 14,
     "metadata": {},
     "output_type": "execute_result"
    }
   ],
   "source": [
    "rho = 0.25\n",
    "beta = 0.001\n",
    "global_min = 0\n",
    "global_max = 2147483647\n",
    "res = ClippedSumEstimator_normal(D, global_min, global_max, rho, beta)\n",
    "res"
   ]
  },
  {
   "cell_type": "code",
   "execution_count": 15,
   "metadata": {},
   "outputs": [
    {
     "data": {
      "text/plain": [
       "{'epsilon': 0.25,\n",
       " 'beta': 0.001,\n",
       " 'tau': 5129.264172263325,\n",
       " 'n': 10000,\n",
       " 'min_val': 0,\n",
       " 'max_val': 2147483647,\n",
       " 'quantile': 4870.735827736675,\n",
       " 'clip_thresh': 552,\n",
       " 'b': 5888.0,\n",
       " 'noise': 10461.085414098388,\n",
       " 'actual_sum': 5012775,\n",
       " 'estimated_sum': 4010341.0854140986}"
      ]
     },
     "execution_count": 15,
     "metadata": {},
     "output_type": "execute_result"
    }
   ],
   "source": [
    "epsilon = 0.25\n",
    "beta = 0.001\n",
    "global_min = 0\n",
    "global_max = 2147483647\n",
    "res = ClippedSumEstimator_laplace(D, global_min, global_max, epsilon, beta)\n",
    "res"
   ]
  },
  {
   "cell_type": "code",
   "execution_count": 16,
   "metadata": {},
   "outputs": [
    {
     "data": {
      "text/plain": [
       "{'epsilon': 0.25,\n",
       " 'n': 10000,\n",
       " 'min_val': 0,\n",
       " 'max_val': 2147483647,\n",
       " 'b': 8589934588.0,\n",
       " 'noise': -8267100424.608283,\n",
       " 'actual_sum': 5012775,\n",
       " 'estimated_sum': -8262087649.608283}"
      ]
     },
     "execution_count": 16,
     "metadata": {},
     "output_type": "execute_result"
    }
   ],
   "source": [
    "epsilon = 0.25\n",
    "beta = 0.001\n",
    "global_min = 0\n",
    "global_max = 2147483647\n",
    "res = SumEstimator_laplace(D, global_min, global_max, epsilon)\n",
    "res"
   ]
  }
 ],
 "metadata": {
  "kernelspec": {
   "display_name": "Python 3",
   "language": "python",
   "name": "python3"
  },
  "language_info": {
   "codemirror_mode": {
    "name": "ipython",
    "version": 3
   },
   "file_extension": ".py",
   "mimetype": "text/x-python",
   "name": "python",
   "nbconvert_exporter": "python",
   "pygments_lexer": "ipython3",
   "version": "3.11.9"
  }
 },
 "nbformat": 4,
 "nbformat_minor": 2
}
