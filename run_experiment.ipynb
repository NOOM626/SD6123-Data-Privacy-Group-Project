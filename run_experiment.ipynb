{
 "cells": [
  {
   "cell_type": "code",
   "execution_count": null,
   "id": "75eb0d8b",
   "metadata": {},
   "outputs": [],
   "source": [
    "# ! pip install nbformat, nbimporter\n",
    "\n",
    "import numpy as np\n",
    "import pandas as pd\n",
    "import matplotlib.pyplot as plt\n",
    "import nbimporter\n",
    "import os\n",
    "# import sum estimator functions from dpsum.ipynb\n",
    "from dpsum import ClippedSumEstimator_laplace, SumEstimator_laplace\n"
   ]
  },
  {
   "cell_type": "code",
   "execution_count": null,
   "id": "c474986d",
   "metadata": {},
   "outputs": [],
   "source": [
    "# load data\n",
    "df_salary = pd.read_csv(\"data/Salary_Data.csv\")\n",
    "df_billing = pd.read_csv(\"data/healthcare_dataset.csv\")\n",
    "df_trade = pd.read_csv(\"data/commodity_trade_statistics_data.csv\")\n"
   ]
  },
  {
   "cell_type": "code",
   "execution_count": null,
   "id": "d230a295",
   "metadata": {},
   "outputs": [],
   "source": [
    "# preprocessing \n",
    "# convert float values in billing amount to integer\n",
    "df_billing['Billing Amount'] = pd.to_numeric(df_billing['Billing Amount'], errors='coerce')\n",
    "df_billing_cleaned = df_billing.dropna(subset=['Billing Amount'])\n",
    "df_billing_cleaned = df_billing_cleaned[df_billing_cleaned['Billing Amount'] >= 0]\n",
    "df_billing_cleaned['Billing Amount'] = df_billing_cleaned['Billing Amount'].astype(int)\n",
    "\n",
    "df_salary = df_salary.dropna(subset=[\"Salary\"])\n",
    "\n",
    "df_trade= df_trade.dropna(subset=[\"trade_usd\"])"
   ]
  },
  {
   "cell_type": "markdown",
   "id": "f623ccb5",
   "metadata": {},
   "source": [
    "### Plot the Attribute Distribution"
   ]
  },
  {
   "cell_type": "code",
   "execution_count": null,
   "id": "e5073b87",
   "metadata": {},
   "outputs": [],
   "source": [
    "plt.figure(figsize=(6, 4))\n",
    "plt.hist(df_billing_cleaned['Billing Amount'],edgecolor='white')\n",
    "plt.xlabel('Billing Amount', fontsize=10)\n",
    "plt.ylabel(\"Count\")\n",
    "plt.title(\"Distribution of Billing Amount\",fontsize = 12)\n",
    "plt.show()"
   ]
  },
  {
   "cell_type": "code",
   "execution_count": null,
   "id": "7c35be4a",
   "metadata": {},
   "outputs": [],
   "source": [
    "plt.figure(figsize=(6, 4))\n",
    "plt.hist(df_salary[\"Salary\"], edgecolor='white')\n",
    "plt.xlabel('Salary', fontsize=10)\n",
    "plt.ylabel(\"Count\")\n",
    "plt.title(\"Distribution of Salary\",fontsize = 12)\n",
    "plt.show()"
   ]
  },
  {
   "cell_type": "code",
   "execution_count": null,
   "id": "bb9b6761",
   "metadata": {},
   "outputs": [],
   "source": [
    "plt.figure(figsize=(6, 4))\n",
    "plt.hist(np.log(df_trade['trade_usd']), edgecolor='white')\n",
    "plt.xlabel('Trade(in US Dollars Log Scale)', fontsize=10)\n",
    "plt.ylabel(\"Count\")\n",
    "plt.title(\"Distribution of Trade\",fontsize = 12)\n",
    "plt.show()"
   ]
  },
  {
   "cell_type": "code",
   "execution_count": null,
   "id": "88905fac",
   "metadata": {},
   "outputs": [],
   "source": [
    "plt.figure(figsize=(6, 4))\n",
    "plt.hist(df_trade['trade_usd'], edgecolor='white')\n",
    "plt.xlabel('Trade(in US Dollars)', fontsize=10)\n",
    "bins = np.logspace(np.log10(df_trade['trade_usd'].min()), np.log10(df_trade['trade_usd'].max()), 50)\n",
    "plt.ylabel(\"Count\")\n",
    "# plt.xscale('log')\n",
    "plt.title(\"Distribution of Trade\",fontsize = 12)\n",
    "plt.show()"
   ]
  },
  {
   "cell_type": "markdown",
   "id": "0e14c455",
   "metadata": {},
   "source": [
    "### Experiments"
   ]
  },
  {
   "cell_type": "code",
   "execution_count": null,
   "id": "4b91d1e8",
   "metadata": {},
   "outputs": [],
   "source": [
    "def run_experiment(dataset, value_name, epsilon_list,beta_list, num_iter = 100, global_max = 2147483647):\n",
    "    \"\"\"\n",
    "    Input: attribute, epsilon list, beta list\n",
    "    \"\"\"\n",
    "    # save results\n",
    "    save_dir = \"output\"\n",
    "    os.makedirs(save_dir,exist_ok=True)\n",
    "\n",
    "    D = dataset[value_name].values\n",
    "    global_min = 0\n",
    "    global_max = global_max     \n",
    "  \n",
    "    # clipped sum with Laplace noise\n",
    "    for beta in beta_list:\n",
    "        for epsilon in epsilon_list:\n",
    "            results_clipped = []\n",
    "            for _ in range(num_iter):\n",
    "                res_clipped = ClippedSumEstimator_laplace(D, global_min, global_max, epsilon, beta)\n",
    "                results_clipped.append(res_clipped)\n",
    "            df_clipped = pd.DataFrame(results_clipped)\n",
    "            filename_clipped= f\"{value_name}_ClippedSumEstimator_laplace_epsilon{epsilon}_beta{beta}.csv\"\n",
    "            csv_path_clipped = os.path.join(save_dir, filename_clipped)\n",
    "            df_clipped.to_csv(csv_path_clipped, index=False)\n",
    "\n",
    "    # sum estimator with Laplace noise\n",
    "    for epsilon in epsilon_list:\n",
    "        results_lap = []\n",
    "        for _ in range(num_iter):\n",
    "            res_lap = SumEstimator_laplace(D, global_min, global_max, epsilon)\n",
    "            results_lap.append(res_lap)\n",
    "        df_lap = pd.DataFrame(results_lap)\n",
    "        filename_lap= f\"{value_name}_sum_estimator_laplace_epsilon{epsilon}.csv\"\n",
    "        csv_path_lap = os.path.join(save_dir, filename_lap)\n",
    "        df_lap.to_csv(csv_path_lap, index=False)\n",
    "    print(f\"Finish Dataset {value_name}\")\n",
    "    \n"
   ]
  },
  {
   "cell_type": "code",
   "execution_count": null,
   "id": "c06773b6",
   "metadata": {},
   "outputs": [],
   "source": [
    "# set epsilon and beta\n",
    "epsilon_list = [0.1,0.25,0.5,1,2]\n",
    "beta_list = [0.001,0.01,0.1]\n"
   ]
  },
  {
   "cell_type": "code",
   "execution_count": null,
   "id": "9db8efd4",
   "metadata": {},
   "outputs": [],
   "source": [
    "run_experiment(df_salary, 'Salary', epsilon_list,beta_list, num_iter = 100)"
   ]
  },
  {
   "cell_type": "code",
   "execution_count": null,
   "id": "1bc31618",
   "metadata": {},
   "outputs": [],
   "source": [
    "# change the Gmax to 64-bit maximum value\n",
    "run_experiment(df_trade, 'trade_usd', epsilon_list,beta_list, num_iter = 100,global_max = 9223372036854775807)"
   ]
  },
  {
   "cell_type": "code",
   "execution_count": null,
   "id": "701174af",
   "metadata": {},
   "outputs": [],
   "source": [
    "\n",
    "run_experiment(df_billing_cleaned, 'Billing Amount', epsilon_list,beta_list, num_iter = 100)"
   ]
  }
 ],
 "metadata": {
  "kernelspec": {
   "display_name": "Python 3",
   "language": "python",
   "name": "python3"
  },
  "language_info": {
   "codemirror_mode": {
    "name": "ipython",
    "version": 3
   },
   "file_extension": ".py",
   "mimetype": "text/x-python",
   "name": "python",
   "nbconvert_exporter": "python",
   "pygments_lexer": "ipython3",
   "version": "3.9.1"
  }
 },
 "nbformat": 4,
 "nbformat_minor": 5
}
