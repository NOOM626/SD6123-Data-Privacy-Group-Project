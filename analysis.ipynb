{
 "cells": [
  {
   "cell_type": "code",
   "execution_count": 41,
   "id": "3599274c",
   "metadata": {},
   "outputs": [],
   "source": [
    "import numpy as np\n",
    "import pandas as pd\n",
    "import matplotlib.pyplot as plt\n",
    "import seaborn as sns\n",
    "import os\n",
    "from sklearn.metrics import mean_absolute_error, mean_squared_error,root_mean_squared_error"
   ]
  },
  {
   "cell_type": "code",
   "execution_count": 42,
   "id": "7e7981c7",
   "metadata": {},
   "outputs": [],
   "source": [
    "# Load data and calculate summaries\n",
    "def mean_relative_error(y_true, y_pred):\n",
    "      return np.mean(np.abs((y_true - y_pred) / (y_true + 1e+8))) \n",
    "\n",
    "\n",
    "def evaluate_clipped_sum_estimation_result(df,epsilon, beta):\n",
    "    row = {\n",
    "        'epsilon':epsilon,\n",
    "        'beta':beta,\n",
    "        'tau': df['tau'].mean(),\n",
    "        'n': df['n'].mean(),\n",
    "        'min_val': df['min_val'].mean(),\n",
    "        'max_val': df['max_val'].mean(),\n",
    "        'quantile': df['quantile'].mean(),\n",
    "        'clip_thresh_mean': df['clip_thresh'].mean(),\n",
    "        'b_mean': df['b'].mean(),\n",
    "        'noise_mean': df['noise'].mean(),\n",
    "        'mae': mean_absolute_error(df['actual_sum'], df['estimated_sum']),\n",
    "        'mse': mean_squared_error(df['actual_sum'], df['estimated_sum']),\n",
    "        'rmse': root_mean_squared_error(df['actual_sum'], df['estimated_sum']),\n",
    "        'mre': mean_relative_error(df['actual_sum'], df['estimated_sum']),\n",
    "    }\n",
    "    return row\n",
    "\n",
    "\n",
    "def evaluate_sum_estimation_result(df,epsilon):\n",
    "    row = {\n",
    "        'epsilon':epsilon,\n",
    "        'n': df['n'].mean(),\n",
    "        'min_val': df['min_val'].mean(),\n",
    "        'max_val': df['max_val'].mean(),\n",
    "        'noise_mean': df['noise'].mean(),\n",
    "        'mae': mean_absolute_error(df['actual_sum'], df['estimated_sum']),\n",
    "        'mse': mean_squared_error(df['actual_sum'], df['estimated_sum']),\n",
    "        'rmse': root_mean_squared_error(df['actual_sum'], df['estimated_sum']),\n",
    "        'mre': mean_relative_error(df['actual_sum'], df['estimated_sum']),\n",
    "    }\n",
    "    return row\n",
    "     \n",
    "\n",
    "def load_data(value_name,epsilon_list,beta_list):\n",
    "    save_dir = 'output'\n",
    "    output_dir = 'summary'\n",
    "    os.makedirs(output_dir, exist_ok=True)\n",
    "    all_row_clipped = []\n",
    "    all_row_lap = []\n",
    "    for beta in beta_list:\n",
    "        for epsilon in epsilon_list:\n",
    "            name = f\"{value_name}_ClippedSumEstimator_laplace_epsilon{epsilon}_beta{beta}.csv\"\n",
    "            file_path = os.path.join(save_dir, name)\n",
    "            df_clip = pd.read_csv(file_path)\n",
    "            row_clip = evaluate_clipped_sum_estimation_result(df_clip,epsilon=epsilon, beta=beta)\n",
    "            all_row_clipped.append(row_clip)\n",
    "    summary_clip = pd.DataFrame(all_row_clipped)\n",
    "\n",
    "    for epsilon in epsilon_list:\n",
    "            name = f\"{value_name}_sum_estimator_laplace_epsilon{epsilon}.csv\"\n",
    "            file_path = os.path.join(save_dir, name)\n",
    "            df_lap = pd.read_csv(file_path)\n",
    "            row_lap = evaluate_sum_estimation_result(df_lap,epsilon=epsilon)\n",
    "            all_row_lap.append(row_lap)\n",
    "    summary_lap = pd.DataFrame(all_row_lap)\n",
    "\n",
    "    output_path_clip = os.path.join(output_dir, f\"{value_name}_summary_clip.csv\")\n",
    "    output_path_lap = os.path.join(output_dir, f\"{value_name}_summary_lap.csv\")\n",
    "\n",
    "    summary_clip.to_csv(output_path_clip, index=False)\n",
    "    summary_lap.to_csv(output_path_lap, index=False)\n",
    "    \n",
    "    return summary_clip, summary_lap\n"
   ]
  },
  {
   "cell_type": "code",
   "execution_count": 43,
   "id": "d7e43207",
   "metadata": {},
   "outputs": [],
   "source": [
    "# epsilon and beta\n",
    "epsilon_list = [0.1,0.25,0.5,1,2]\n",
    "beta_list = [0.001,0.01,0.1]\n",
    "\n",
    "value_list = ['Salary',\"Billing Amount\",\"trade_usd\"]"
   ]
  },
  {
   "cell_type": "code",
   "execution_count": 44,
   "id": "4384ff7c",
   "metadata": {},
   "outputs": [],
   "source": [
    "# summarize salary results\n",
    "summary_clipped_salary, summary_lap_salary = load_data('Salary',epsilon_list,beta_list)"
   ]
  },
  {
   "cell_type": "code",
   "execution_count": 45,
   "id": "5222dd40",
   "metadata": {},
   "outputs": [],
   "source": [
    "# summarize health results\n",
    "summary_clipped_health, summary_lap_health = load_data('Billing Amount',epsilon_list,beta_list)"
   ]
  },
  {
   "cell_type": "code",
   "execution_count": 46,
   "id": "7b617590",
   "metadata": {},
   "outputs": [],
   "source": [
    "# summarize trade results\n",
    "summary_clipped_trade, summary_lap_trade = load_data('trade_usd',epsilon_list,beta_list)"
   ]
  },
  {
   "cell_type": "code",
   "execution_count": 47,
   "id": "913e543c",
   "metadata": {},
   "outputs": [],
   "source": [
    "def plot_metric(summary_clipped_dict,summary_lap_dict,epsilon_list,metric='mae',beta = 0.01,save_fig = False):\n",
    "    values = summary_clipped_dict.keys()\n",
    "    for val in values:\n",
    "        df_clip = summary_clipped_dict[val]\n",
    "        df_clip_beta = df_clip[df_clip['beta'] == beta]\n",
    "        df_lap = summary_lap_dict[val]\n",
    "        plt.figure(figsize=(6, 4))\n",
    "        \n",
    "        plt.yscale('log')\n",
    "        # Plot Laplace\n",
    "        plt.plot(epsilon_list, df_lap[metric], 'o-r', label='Laplace Mechanism')\n",
    "\n",
    "        # Plot Clipped\n",
    "        plt.plot(epsilon_list, df_clip_beta[metric], 's-b', label='Clipped Sum Estimator')\n",
    "        \n",
    "        plt.xlabel('Privacy Parameter ε',fontsize = 11)\n",
    "        plt.ylabel(f'{metric.upper()} (Logarithm Scale)',fontsize = 11)\n",
    "        plt.title(f\"{val} - {metric.upper()}\",fontsize = 12)\n",
    "        plt.legend()\n",
    "\n",
    "        if save_fig:\n",
    "            save_dir = 'img'\n",
    "            os.makedirs(save_dir, exist_ok=True)\n",
    "            filename = os.path.join(save_dir, f\"{val}_{metric}_beta{beta}.png\")\n",
    "            plt.savefig(filename, dpi=300, bbox_inches='tight')\n",
    "            print(f\"Saved plot: {filename}\")\n",
    "            plt.close()\n",
    "        else:\n",
    "            plt.show()"
   ]
  },
  {
   "cell_type": "code",
   "execution_count": 48,
   "id": "8b9b5353",
   "metadata": {},
   "outputs": [],
   "source": [
    "summary_lap_dict = {\n",
    "    'Salary': summary_lap_salary,\n",
    "    'Billing Amount': summary_lap_health,\n",
    "    'Trade': summary_lap_trade\n",
    "}\n",
    "\n",
    "summary_clipped_dict = {\n",
    "    'Salary': summary_clipped_salary,\n",
    "    'Billing Amount': summary_clipped_health,\n",
    "    'Trade': summary_clipped_trade\n",
    "}"
   ]
  },
  {
   "cell_type": "code",
   "execution_count": 49,
   "id": "e15306c8",
   "metadata": {},
   "outputs": [],
   "source": [
    "metrics = ['mae','mse','rmse','mre']"
   ]
  },
  {
   "cell_type": "code",
   "execution_count": 50,
   "id": "294f9631",
   "metadata": {},
   "outputs": [
    {
     "name": "stdout",
     "output_type": "stream",
     "text": [
      "Saved plot: img\\Salary_mae_beta0.001.png\n",
      "Saved plot: img\\Billing Amount_mae_beta0.001.png\n",
      "Saved plot: img\\Trade_mae_beta0.001.png\n",
      "Saved plot: img\\Salary_mse_beta0.001.png\n",
      "Saved plot: img\\Billing Amount_mse_beta0.001.png\n",
      "Saved plot: img\\Trade_mse_beta0.001.png\n",
      "Saved plot: img\\Salary_rmse_beta0.001.png\n",
      "Saved plot: img\\Billing Amount_rmse_beta0.001.png\n",
      "Saved plot: img\\Trade_rmse_beta0.001.png\n",
      "Saved plot: img\\Salary_mre_beta0.001.png\n",
      "Saved plot: img\\Billing Amount_mre_beta0.001.png\n",
      "Saved plot: img\\Trade_mre_beta0.001.png\n"
     ]
    }
   ],
   "source": [
    "for evl in metrics:\n",
    "    plot_metric(summary_clipped_dict,summary_lap_dict, metric=evl, beta=beta_list[0],epsilon_list=epsilon_list,save_fig=True)"
   ]
  },
  {
   "cell_type": "code",
   "execution_count": 54,
   "id": "6055f46f",
   "metadata": {},
   "outputs": [],
   "source": [
    "def plot_paras(summary_clipped_dict, epsilon_list,para = 'tau',beta = beta_list,save_fig = False):\n",
    "    save_dir = 'img'\n",
    "    os.makedirs(save_dir, exist_ok=True)\n",
    "    values = summary_clipped_dict.keys()\n",
    "    color_map = {\n",
    "        0.001: 'blue',\n",
    "        0.01: 'red',\n",
    "        0.1: 'green',\n",
    "        0.5: 'orange'\n",
    "    }\n",
    "    linestyles = ['-', '--', ':', '-.']\n",
    "    markers = ['o', 's', '^', 'D']\n",
    "\n",
    "    for val in values:\n",
    "        df_clip = summary_clipped_dict[val]\n",
    "        \n",
    "        plt.figure(figsize=(8, 6))\n",
    "        for i, beta in enumerate(beta_list):\n",
    "            df_clip_beta = df_clip[df_clip['beta'] == beta]\n",
    "            color = color_map.get(beta, None)\n",
    "            # plt.yscale('log')\n",
    "            plt.plot(epsilon_list, df_clip_beta[para], \n",
    "                     label=f'β={beta}',color=color,\n",
    "                     linestyle=linestyles[i % len(linestyles)],\n",
    "                     marker=markers[i % len(markers)])\n",
    "        \n",
    "        plt.xlabel('Privacy Parameter ε',fontsize = 16)\n",
    "        \n",
    "        if para == 'clip_thresh_mean':\n",
    "            plt.ylabel(\"Clipping Threshold (Logarithm Scale)\",fontsize = 16)\n",
    "            plt.yscale('log')\n",
    "            plt.title(f\"{val} - Clipping Threshold\",fontsize = 15)\n",
    "            filename = os.path.join(save_dir, f\"{val}_clipThresh.png\")\n",
    "        elif para == 'tau':\n",
    "            plt.ylabel(\"τ\",fontsize = 16)\n",
    "            plt.title(f\"{val} - Rank Error\",fontsize = 15) \n",
    "            filename = os.path.join(save_dir, f\"{val}_{para}.png\")\n",
    "        else:\n",
    "            plt.ylabel(f'{para}')\n",
    "            plt.title(f\"{val} - {para}\")\n",
    "            filename = os.path.join(save_dir, f\"{val}_{para}.png\")\n",
    "        plt.legend()\n",
    "        plt.grid(True, linestyle='--', alpha=0.3)\n",
    "        plt.tight_layout()\n",
    "        if save_fig:\n",
    "            plt.savefig(filename, dpi=300, bbox_inches='tight')\n",
    "            print(f\"Saved plot: {filename}\")\n",
    "            plt.close()\n",
    "        else:\n",
    "            plt.show()\n",
    "    "
   ]
  },
  {
   "cell_type": "code",
   "execution_count": 55,
   "id": "8f16f4ec",
   "metadata": {},
   "outputs": [],
   "source": [
    "paras = ['tau','clip_thresh_mean']"
   ]
  },
  {
   "cell_type": "code",
   "execution_count": 56,
   "id": "9cbfd000",
   "metadata": {},
   "outputs": [
    {
     "name": "stdout",
     "output_type": "stream",
     "text": [
      "Saved plot: img\\Salary_tau.png\n",
      "Saved plot: img\\Billing Amount_tau.png\n",
      "Saved plot: img\\Trade_tau.png\n",
      "Saved plot: img\\Salary_clipThresh.png\n",
      "Saved plot: img\\Billing Amount_clipThresh.png\n",
      "Saved plot: img\\Trade_clipThresh.png\n"
     ]
    }
   ],
   "source": [
    "for para in paras:\n",
    "    plot_paras(summary_clipped_dict, epsilon_list,para = para,beta = beta_list,save_fig=True)"
   ]
  }
 ],
 "metadata": {
  "kernelspec": {
   "display_name": "Python 3",
   "language": "python",
   "name": "python3"
  },
  "language_info": {
   "codemirror_mode": {
    "name": "ipython",
    "version": 3
   },
   "file_extension": ".py",
   "mimetype": "text/x-python",
   "name": "python",
   "nbconvert_exporter": "python",
   "pygments_lexer": "ipython3",
   "version": "3.9.1rc1"
  }
 },
 "nbformat": 4,
 "nbformat_minor": 5
}
